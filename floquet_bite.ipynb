{
 "cells": [
  {
   "cell_type": "code",
   "execution_count": 292,
   "id": "c70383b6",
   "metadata": {},
   "outputs": [
    {
     "name": "stdout",
     "output_type": "stream",
     "text": [
      "The autoreload extension is already loaded. To reload it, use:\n",
      "  %reload_ext autoreload\n"
     ]
    }
   ],
   "source": [
    "# import all modules here\n",
    "import numpy as np\n",
    "import matplotlib.pyplot as plt\n",
    "import scipy\n",
    "from scipy.integrate import solve_ivp\n",
    "from scipy.integrate import simpson\n",
    "from scipy.special import jv # bessel function of the first kind\n",
    "import seaborn as sns\n",
    "sns.set()\n",
    "sns.set_style(\"white\")\n",
    "\n",
    "%load_ext autoreload\n",
    "%autoreload 2\n",
    "import floquet as fl"
   ]
  },
  {
   "cell_type": "code",
   "execution_count": 293,
   "id": "e94d5ff7",
   "metadata": {},
   "outputs": [],
   "source": [
    "import bite_surface as bs"
   ]
  },
  {
   "cell_type": "code",
   "execution_count": 294,
   "id": "0ddd6e2c",
   "metadata": {},
   "outputs": [],
   "source": [
    "ks_surf,es_surf=bs.spectrum_3DTI_surface(ky=0,A1=2.26,B1=6.86,A2=3.33,B2=44.5,C=0,D1=5.74,D2=30.4,M=-0.50,R1=50.6*0,R2=-113.3*0)\n"
   ]
  },
  {
   "cell_type": "code",
   "execution_count": 99,
   "id": "e3f3fc2d",
   "metadata": {},
   "outputs": [
    {
     "data": {
      "text/plain": [
       "(-0.1, 0.1)"
      ]
     },
     "execution_count": 99,
     "metadata": {},
     "output_type": "execute_result"
    },
    {
     "data": {
      "image/png": "[encoded data removed]",
      "text/plain": [
       "<Figure size 432x288 with 1 Axes>"
      ]
     },
     "metadata": {},
     "output_type": "display_data"
    }
   ],
   "source": [
    "plt.scatter(ks_surf,es_surf,c='k',marker='.',alpha=0.5)\n",
    "plt.ylim(-1,1)\n",
    "plt.xlim(-0.1,0.1)"
   ]
  },
  {
   "cell_type": "code",
   "execution_count": 309,
   "id": "108781ce",
   "metadata": {},
   "outputs": [],
   "source": [
    "# define all variables\n",
    "s0 = np.array([[1,0],[0,1]])\n",
    "s1 = np.array([[0,1],[1,0]])\n",
    "s2 = np.array([[0,-1j],[1j,0]])\n",
    "s3 = np.array([[1,0],[0,-1]])\n",
    "\n",
    "# hbar is a global variable\n",
    "hbar = 0.6582119569 # ev * fs\n",
    "\n",
    "# these are parameters\n",
    "v = 3.6/hbar # Ang/fs\n",
    "Omega = 0.12/hbar # fs^-1\n",
    "Tpump = 106.16 # fs\n",
    "Tprobe = 26 # fs\n",
    "eE0 = 7.5e-3 # eV / Ang\n",
    "mu = 0.3 # eV\n",
    "wf = mu/hbar # fs^-1"
   ]
  },
  {
   "cell_type": "code",
   "execution_count": 310,
   "id": "69b15bc3",
   "metadata": {},
   "outputs": [],
   "source": [
    "A2 = 3.33\n",
    "D2 = 30.4"
   ]
  },
  {
   "cell_type": "code",
   "execution_count": 353,
   "id": "7048f5dc",
   "metadata": {},
   "outputs": [],
   "source": [
    "def spectrum():\n",
    "    res = 1000\n",
    "    s = 2\n",
    "    ks = np.linspace(-0.1, 0.1, res)\n",
    "    Es = np.zeros(s*res)\n",
    "\n",
    "    for i in range(res):\n",
    "        k = ks[i]\n",
    "        H = Hbite(k,0,0)\n",
    "        E, W = np.linalg.eigh(H)\n",
    "        Es[i*s:(i+1)*s] = E\n",
    "\n",
    "    ks_ret = np.repeat(ks, s)\n",
    "\n",
    "    return ks_ret, Es"
   ]
  },
  {
   "cell_type": "code",
   "execution_count": 354,
   "id": "f615a4bf",
   "metadata": {},
   "outputs": [],
   "source": [
    "ks,es=spectrum()"
   ]
  },
  {
   "cell_type": "code",
   "execution_count": 355,
   "id": "cb4de81f",
   "metadata": {},
   "outputs": [
    {
     "data": {
      "text/plain": [
       "(-1.0, 1.0)"
      ]
     },
     "execution_count": 355,
     "metadata": {},
     "output_type": "execute_result"
    },
    {
     "data": {
      "image/png": "[encoded data removed]",
      "text/plain": [
       "<Figure size 432x288 with 1 Axes>"
      ]
     },
     "metadata": {},
     "output_type": "display_data"
    }
   ],
   "source": [
    "plt.scatter(ks,es)\n",
    "plt.xlim(-0.1,0.1)\n",
    "plt.ylim(-1,1)"
   ]
  },
  {
   "cell_type": "code",
   "execution_count": 344,
   "id": "04688970",
   "metadata": {},
   "outputs": [],
   "source": [
    "# function that diagonalizes Ephi=H0phi for IC of Dirac ODE\n",
    "def Hbite(kx,ky,v):\n",
    "    H = 3.33*ky*s1 - 3.33*kx*s2 + 30.4*(kx**2+ky**2)*s0 - 0.3*s0\n",
    "#     kp = kx + 1j*ky\n",
    "#     km = kx - 1j*ky\n",
    "#     H = (hbar*3.6+100*(kx**2+ky**2))*(kx*s2 - ky*s1) + 25*(kp**3+km**3)*s3 - 0.3*s0\n",
    "#     H = (3.6+0*(kx**2+ky**2))*(kx*s2 - ky*s1) + 0*(kp**3+km**3)*s3 - 0.3*s0    \n",
    "    return H\n",
    "\n",
    "def InitialConditions(kx,ky,v):\n",
    "    \"\"\"\n",
    "    Returns phi and E for the time-independent Hamiltonian\n",
    "    phi[:,alpha] is the alpha'th eigenvector\n",
    "    \"\"\"\n",
    "    # initial Hamiltonian\n",
    "    hk = Hbite(kx,ky,v)\n",
    "    \n",
    "    # diagonalize it\n",
    "    E, phi = np.linalg.eigh(hk)\n",
    "    \n",
    "    return E, phi"
   ]
  },
  {
   "cell_type": "code",
   "execution_count": 345,
   "id": "70b5e02b",
   "metadata": {},
   "outputs": [],
   "source": [
    "# function f in dt{psi} = f(t,psi)\n",
    "def dirac(t,psi,kx,ky,v,eE0,Omega,Tpump):\n",
    "    # add peierls momentum\n",
    "    kx_bump = -eE0/Omega * np.exp(-t**2/(2*Tpump**2)) * np.cos(Omega*t) / hbar # important to divide by hbar since sub is hbar*k -> eA\n",
    "    ky_bump = eE0/Omega * np.exp(-t**2/(2*Tpump**2)) * np.sin(Omega*t) / hbar\n",
    "    # get H\n",
    "    H = Hbite(kx+kx_bump,ky+ky_bump,v)\n",
    "    # return schrodinger\n",
    "    f = -1j/hbar * H @ psi\n",
    "    return f"
   ]
  },
  {
   "cell_type": "code",
   "execution_count": 346,
   "id": "6684938d",
   "metadata": {},
   "outputs": [],
   "source": [
    "# enveloppe and fermi functions. \n",
    "# the latter is functionally irrelevant as we consider low T\n",
    "def Enveloppe(t,t0,Tprobe):\n",
    "    \"\"\"\n",
    "    Probe pulse enveloppe function\n",
    "    \"\"\"\n",
    "    return np.exp(-(t-t0)**2/(2*Tprobe**2))\n",
    "\n",
    "def Fermi(E,kT):\n",
    "    \"\"\"\n",
    "    Fermi distribution\n",
    "    \"\"\"\n",
    "    if kT==0:\n",
    "        return np.heaviside(-E,0.5)\n",
    "    else:\n",
    "        f = 1/(np.exp(E/kT) + 1)\n",
    "    return f"
   ]
  },
  {
   "cell_type": "code",
   "execution_count": 356,
   "id": "d1a1f4db",
   "metadata": {},
   "outputs": [],
   "source": [
    "# workhorses\n",
    "\n",
    "# integrates s(t,t0)*e^{iwt}*psi_{alpha,s}(t) and modulus squared\n",
    "# this is the heart of the program\n",
    "def PhotocurrentSA(psi,s,kx,ky,w,t0,v,eE0,Omega,Tpump,Tprobe):\n",
    "    # t-space\n",
    "    t_space = psi.t\n",
    "    # integrand: enveloppe * phase * psi\n",
    "    integrand = Enveloppe(t_space,t0,Tprobe) * np.exp(1j*w*t_space) * psi.y[s,:]\n",
    "    # integrate samples data using simpson's rule\n",
    "    I = simpson(integrand,x=t_space)\n",
    "    return np.abs(I)**2\n",
    "\n",
    "# main function\n",
    "def Photocurrent(psi_plus,psi_minus,kx,ky,Es,w,t0,v,eE0,Omega,Tpump,Tprobe):\n",
    "    \"\"\"\n",
    "    Main photocurrent function\n",
    "    Es[i] corresponds to the energy of the minus (i=0) or plus (i=1) psi\n",
    "    \"\"\"\n",
    "    # the phis are solved for in the main looping function (30/01/23 change)\n",
    "    \n",
    "    # integrate and add it up\n",
    "    P = 0\n",
    "    for s in range(2):\n",
    "        # add up both spins\n",
    "        P += Fermi(Es[0],kT=0) * PhotocurrentSA(psi_minus,s=s,kx=kx,ky=ky,w=w,t0=t0,v=v,eE0=eE0,Omega=Omega,Tpump=Tpump,Tprobe=Tprobe) \n",
    "        P += Fermi(Es[1],kT=0) * PhotocurrentSA(psi_plus,s=s,kx=kx,ky=ky,w=w,t0=t0,v=v,eE0=eE0,Omega=Omega,Tpump=Tpump,Tprobe=Tprobe)\n",
    "    return P\n",
    "\n",
    "# function to help plotting and making arrays to visualize\n",
    "def PhotocurrentArrayEnergy(res_w,kx,ky,t0,v,eE0,Omega,Tpump,Tprobe):\n",
    "    \"\"\"\n",
    "    Makes an array in w \n",
    "    \"\"\"\n",
    "    # set initial parameters\n",
    "    ws = np.linspace(-1,1,res_w) - 0.3 #np.linspace(-np.pi,np.pi,res_w)*Omega - mu/hbar # from inverting (w-wF)/Omega\n",
    "    \n",
    "    # diagonalize the time-independent system (at t-> -\\infty)\n",
    "    Es, phis = InitialConditions(kx,ky,v)\n",
    "\n",
    "    # solve the dirac equation\n",
    "    psi_plus = solve_ivp(fun=dirac, t_span=[-2000,1000], y0=phis[:,1], args=(kx,ky,v,eE0,Omega,Tpump), method='RK45')\n",
    "    psi_minus = solve_ivp(fun=dirac, t_span=[-2000,1000], y0=phis[:,0], args=(kx,ky,v,eE0,Omega,Tpump), method='RK45')\n",
    "\n",
    "    P = np.zeros(res_w, dtype=float)\n",
    "    for i,w in enumerate(ws):\n",
    "        P[i] = Photocurrent(psi_plus=psi_plus,psi_minus=psi_minus,Es=Es,kx=kx,ky=ky,w=w,t0=t0,v=v,eE0=eE0,Omega=Omega,Tpump=Tpump,Tprobe=Tprobe)\n",
    "            \n",
    "    return ws, P"
   ]
  },
  {
   "cell_type": "code",
   "execution_count": 361,
   "id": "3e7f64de",
   "metadata": {},
   "outputs": [],
   "source": [
    "ws5, Ps5 = PhotocurrentArrayEnergy(res_w=300,kx=0.0,ky=0,t0=-500,v=v,eE0=eE0,Omega=Omega,Tpump=Tpump,Tprobe=Tprobe)\n",
    "ws1, Ps1 = PhotocurrentArrayEnergy(res_w=300,kx=0.0,ky=0,t0=-100,v=v,eE0=eE0,Omega=Omega,Tpump=Tpump,Tprobe=Tprobe)\n",
    "ws0, Ps0 = PhotocurrentArrayEnergy(res_w=300,kx=0.0,ky=0,t0=0,v=v,eE0=eE0,Omega=Omega,Tpump=Tpump,Tprobe=Tprobe)"
   ]
  },
  {
   "cell_type": "code",
   "execution_count": 362,
   "id": "711ad3ae",
   "metadata": {},
   "outputs": [
    {
     "data": {
      "image/png": "[encoded data removed]",
      "text/plain": [
       "<Figure size 432x288 with 1 Axes>"
      ]
     },
     "metadata": {},
     "output_type": "display_data"
    }
   ],
   "source": [
    "# plot it\n",
    "plt.figure()\n",
    "\n",
    "plt.scatter(ws5+0.3,Ps5,c='k',marker='.',label=r\"$t_0 = -500$\")\n",
    "\n",
    "shift1 = np.max(Ps5) + 250\n",
    "\n",
    "plt.scatter(ws1+0.3,Ps1+shift1,c='b',marker='.',label=r\"$t_0 = -100$\")\n",
    "\n",
    "shift2 = shift1 + np.max(Ps1) + 250\n",
    "\n",
    "plt.scatter(ws0+0.3,Ps0+shift2,c='r',marker='.',label=r\"$t_0 = 0$\")\n",
    "plt.legend()\n",
    "# plt.xlabel(r\"$\\left(\\omega+\\omega_F\\right)/\\Omega$\")\n",
    "plt.xlabel(r\"$E$\")\n",
    "plt.ylabel(r\"Intensity (A.U)\")\n",
    "plt.show()"
   ]
  },
  {
   "cell_type": "code",
   "execution_count": 363,
   "id": "151f86bd",
   "metadata": {},
   "outputs": [],
   "source": [
    "def PhotocurrentArrayWK(k_dir,k_other,t0,v,eE0,Omega,Tpump,Tprobe):\n",
    "    \"\"\"\n",
    "    Makes an array in k-w plane \n",
    "    k_dir==1 for x and 2 for y\n",
    "    k_other is the value of the remaining momentum\n",
    "    \"\"\"\n",
    "    # set initial parameters\n",
    "    res = 100\n",
    "    res_k = res\n",
    "    res_w = res\n",
    "    \n",
    "    # make arrays\n",
    "    ks = np.linspace(-0.1,0.1,res_k)\n",
    "    P = np.zeros((res_k,res_w), dtype=float)\n",
    "    \n",
    "    # loop over k\n",
    "    if k_dir == 1:\n",
    "        for i,kx in enumerate(ks):\n",
    "            P[i,:] = PhotocurrentArrayEnergy(res_w=res_w,kx=kx,ky=k_other,t0=t0,v=v,eE0=eE0,Omega=Omega,Tpump=Tpump,Tprobe=Tprobe)[1] # second component is ps\n",
    "            \n",
    "    elif k_dir == 2:\n",
    "        for i,ky in enumerate(ks):\n",
    "            P[i,:] = PhotocurrentArrayEnergy(res_w=res_w,kx=k_other,ky=ky,t0=t0,v=v,eE0=eE0,Omega=Omega,Tpump=Tpump,Tprobe=Tprobe)[1] # second component is ps\n",
    "        \n",
    "    return P"
   ]
  },
  {
   "cell_type": "code",
   "execution_count": 364,
   "id": "dca9598a",
   "metadata": {},
   "outputs": [],
   "source": [
    "P = PhotocurrentArrayWK(k_dir=1,k_other=0,t0=-500,v=v,eE0=eE0,Omega=Omega,Tpump=Tpump,Tprobe=Tprobe)\n"
   ]
  },
  {
   "cell_type": "code",
   "execution_count": null,
   "id": "8c199254",
   "metadata": {},
   "outputs": [],
   "source": [
    "plt.imshow(P.T)\n",
    "# plt.xticks([coord_to_res(0,0.1,-0.1,100)])\n",
    "plt.ylim(0,99)\n",
    "plt.show()"
   ]
  },
  {
   "cell_type": "code",
   "execution_count": null,
   "id": "10e22a3e",
   "metadata": {},
   "outputs": [],
   "source": []
  }
 ],
 "metadata": {
  "kernelspec": {
   "display_name": "Python 3 (ipykernel)",
   "language": "python",
   "name": "python3"
  },
  "language_info": {
   "codemirror_mode": {
    "name": "ipython",
    "version": 3
   },
   "file_extension": ".py",
   "mimetype": "text/x-python",
   "name": "python",
   "nbconvert_exporter": "python",
   "pygments_lexer": "ipython3",
   "version": "3.9.12"
  },
  "varInspector": {
   "cols": {
    "lenName": 16,
    "lenType": 16,
    "lenVar": 40
   },
   "kernels_config": {
    "python": {
     "delete_cmd_postfix": "",
     "delete_cmd_prefix": "del ",
     "library": "var_list.py",
     "varRefreshCmd": "print(var_dic_list())"
    },
    "r": {
     "delete_cmd_postfix": ") ",
     "delete_cmd_prefix": "rm(",
     "library": "var_list.r",
     "varRefreshCmd": "cat(var_dic_list()) "
    }
   },
   "types_to_exclude": [
    "module",
    "function",
    "builtin_function_or_method",
    "instance",
    "_Feature"
   ],
   "window_display": false
  }
 },
 "nbformat": 4,
 "nbformat_minor": 5
}
